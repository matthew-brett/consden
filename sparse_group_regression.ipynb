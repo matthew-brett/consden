{
 "cells": [
  {
   "cell_type": "code",
   "execution_count": 1,
   "metadata": {
    "collapsed": false
   },
   "outputs": [],
   "source": [
    "import numpy as np\n",
    "%matplotlib inline\n",
    "import matplotlib.pyplot as plt\n",
    "\n",
    "import regreg.api as rr\n",
    "from regreg.affine import composition, reshape"
   ]
  },
  {
   "cell_type": "code",
   "execution_count": 2,
   "metadata": {
    "collapsed": true
   },
   "outputs": [],
   "source": [
    "nvox = 100\n",
    "ntr = 150\n",
    "nbasis = 300"
   ]
  },
  {
   "cell_type": "code",
   "execution_count": 3,
   "metadata": {
    "collapsed": true
   },
   "outputs": [],
   "source": [
    "# beta parameter matrix for design assumed sparse\n",
    "X = np.random.standard_normal((ntr, nbasis))\n",
    "# Data\n",
    "Y = np.random.standard_normal((ntr, nvox))"
   ]
  },
  {
   "cell_type": "code",
   "execution_count": 4,
   "metadata": {
    "collapsed": false
   },
   "outputs": [
    {
     "data": {
      "text/latex": [
       "$$\\frac{C}{2}\\left\\|X_{}\\beta - Y_{}\\right\\|^2_2$$"
      ],
      "text/plain": [
       "affine_smooth(quadratic((150,), coef=1, Q=None, Qdiag=False, offset=[[-0.65101859 -0.15605242 -0.08157678 ...,  0.01229965  1.63998523\n",
       "   0.0836125 ]\n",
       " [-0.55842066 -0.22642011  0.92799184 ...,  2.22984358  0.69828826\n",
       "   0.59690599]\n",
       " [ 0.60488698  0.81189729  0.22037411 ..., -0.02583309  0.33668437\n",
       "   1.08019873]\n",
       " ..., \n",
       " [ 1.68258962 -0.16720304 -1.43531354 ...,  1.01514457 -0.50306558\n",
       "  -0.97993058]\n",
       " [-0.61484572 -0.28233472 -0.1625493  ..., -0.18256476  0.0508806\n",
       "   0.80625004]\n",
       " [ 0.33554121  0.17128919  0.84358452 ...,  0.69155909  0.20894208\n",
       "  -0.93549902]]), <regreg.affine.linear_transform object at 0x1097b4490>, store_grad=True)"
      ]
     },
     "execution_count": 4,
     "metadata": {},
     "output_type": "execute_result"
    }
   ],
   "source": [
    "loss = rr.squared_error(X, Y)\n",
    "loss.shape = (nbasis, nvox)\n",
    "loss"
   ]
  },
  {
   "cell_type": "code",
   "execution_count": 5,
   "metadata": {
    "collapsed": false
   },
   "outputs": [
    {
     "data": {
      "text/plain": [
       "(300, 100)"
      ]
     },
     "execution_count": 5,
     "metadata": {},
     "output_type": "execute_result"
    }
   ],
   "source": [
    "penalty = rr.l1_l2(loss.shape, lagrange=1.)\n",
    "penalty.shape"
   ]
  },
  {
   "cell_type": "code",
   "execution_count": 6,
   "metadata": {
    "collapsed": false
   },
   "outputs": [
    {
     "data": {
      "text/plain": [
       "166.14981369096461"
      ]
     },
     "execution_count": 6,
     "metadata": {},
     "output_type": "execute_result"
    }
   ],
   "source": [
    "dual_penalty = penalty.conjugate\n",
    "lam_max = dual_penalty.seminorm(\n",
    "    loss.smooth_objective(np.zeros(loss.shape), 'grad'),\n",
    "    lagrange=1)\n",
    "lam_max"
   ]
  },
  {
   "cell_type": "code",
   "execution_count": 7,
   "metadata": {
    "collapsed": false
   },
   "outputs": [
    {
     "data": {
      "text/latex": [
       "$$\\lambda_{} \\|B\\|_{1,2}$$"
      ],
      "text/plain": [
       "l1_l2((300, 100), lagrange=157.842323, offset=None)"
      ]
     },
     "execution_count": 7,
     "metadata": {},
     "output_type": "execute_result"
    }
   ],
   "source": [
    "penalty.lagrange = 0.95*lam_max\n",
    "penalty"
   ]
  },
  {
   "cell_type": "code",
   "execution_count": 8,
   "metadata": {
    "collapsed": false
   },
   "outputs": [
    {
     "data": {
      "text/latex": [
       "$$\n",
       "\\begin{aligned}\n",
       "\\text{minimize}_{\\beta} & f(\\beta) + g(\\beta) \\\\\n",
       "f(\\beta) &= \\frac{C}{2}\\left\\|X_{1}\\beta - Y_{1}\\right\\|^2_2 \\\\\n",
       "g(\\beta) &= \\lambda_{2} \\|B\\|_{1,2} \\\\\n",
       "\\end{aligned}\n",
       "$$"
      ],
      "text/plain": [
       "<regreg.problems.simple.simple_problem at 0x1097b4390>"
      ]
     },
     "execution_count": 8,
     "metadata": {},
     "output_type": "execute_result"
    }
   ],
   "source": [
    "problem = rr.simple_problem(loss, penalty)\n",
    "problem"
   ]
  },
  {
   "cell_type": "code",
   "execution_count": 7,
   "metadata": {
    "collapsed": false
   },
   "outputs": [
    {
     "data": {
      "text/plain": [
       "[<matplotlib.lines.Line2D at 0x1078c5fd0>]"
      ]
     },
     "execution_count": 7,
     "metadata": {},
     "output_type": "execute_result"
    },
    {
     "data": {
      "image/png": "[encoded data removed]",
      "text/plain": [
       "<matplotlib.figure.Figure at 0x106b2efd0>"
      ]
     },
     "metadata": {},
     "output_type": "display_data"
    }
   ],
   "source": [
    "beta = problem.solve(min_its=100, tol=1.e-10)\n",
    "plt.plot((beta**2).sum(1))"
   ]
  },
  {
   "cell_type": "markdown",
   "metadata": {},
   "source": [
    "# Using groups and a design"
   ]
  },
  {
   "cell_type": "code",
   "execution_count": 27,
   "metadata": {
    "collapsed": false
   },
   "outputs": [
    {
     "data": {
      "text/plain": [
       "(150, 310)"
      ]
     },
     "execution_count": 27,
     "metadata": {},
     "output_type": "execute_result"
    }
   ],
   "source": [
    "# A design with experimental manipulations, where betas not sparse\n",
    "nbasis = 10\n",
    "design = np.random.standard_normal((ntr, nbasis))\n",
    "X_d = np.hstack([design, X]) # prepended columns for design\n",
    "X_d.shape"
   ]
  },
  {
   "cell_type": "markdown",
   "metadata": {},
   "source": [
    "### Method 1: reusing above method on residuals "
   ]
  },
  {
   "cell_type": "code",
   "execution_count": 9,
   "metadata": {
    "collapsed": true
   },
   "outputs": [],
   "source": [
    "design_pinv = np.linalg.pinv(design)\n",
    "# Projector onto space of experimental design\n",
    "P_design = np.dot(design, design_pinv)\n",
    "# Residual-forming matrix\n",
    "R_design = np.eye(ntr) - P_design\n",
    "# Residuals of data w.r.t design\n",
    "resid_design = np.dot(R_design, Y)\n",
    "\n",
    "# X matrix for problem should be residualized w.r.t. design as well \n",
    "# -- important\n",
    "X_ort_design = np.dot(R_design, X)\n",
    "\n",
    "loss_resid = rr.squared_error(X_ort_design, resid_design)\n",
    "loss_resid.shape = (300, nvox)"
   ]
  },
  {
   "cell_type": "code",
   "execution_count": 10,
   "metadata": {
    "collapsed": true
   },
   "outputs": [],
   "source": [
    "lam_max = dual_penalty.seminorm(loss_resid.smooth_objective(np.zeros(loss_resid.shape), 'grad'), lagrange=1.)\n",
    "penalty.lagrange = 0.9 * lam_max"
   ]
  },
  {
   "cell_type": "code",
   "execution_count": 11,
   "metadata": {
    "collapsed": false
   },
   "outputs": [
    {
     "data": {
      "text/latex": [
       "$$\n",
       "\\begin{aligned}\n",
       "\\text{minimize}_{\\beta} & f(\\beta) + g(\\beta) \\\\\n",
       "f(\\beta) &= \\frac{C}{2}\\left\\|X_{1}\\beta - Y_{1}\\right\\|^2_2 \\\\\n",
       "g(\\beta) &= \\lambda_{2} \\|B\\|_{1,2} \\\\\n",
       "\\end{aligned}\n",
       "$$"
      ],
      "text/plain": [
       "<regreg.problems.simple.simple_problem at 0x106c2b290>"
      ]
     },
     "execution_count": 11,
     "metadata": {},
     "output_type": "execute_result"
    }
   ],
   "source": [
    "# Residual problem after orthogonalizing w.r.t experimental design\n",
    "problem_resid = rr.simple_problem(loss_resid, penalty)\n",
    "problem_resid"
   ]
  },
  {
   "cell_type": "code",
   "execution_count": 12,
   "metadata": {
    "collapsed": false
   },
   "outputs": [
    {
     "data": {
      "text/plain": [
       "[<matplotlib.lines.Line2D at 0x107aec390>]"
      ]
     },
     "execution_count": 12,
     "metadata": {},
     "output_type": "execute_result"
    },
    {
     "data": {
      "image/png": "[encoded data removed]",
      "text/plain": [
       "<matplotlib.figure.Figure at 0x106c32bd0>"
      ]
     },
     "metadata": {},
     "output_type": "display_data"
    }
   ],
   "source": [
    "soln_resid = problem_resid.solve(min_its=200, tol=1.e-12)\n",
    "fig = plt.figure(figsize=(9,6))\n",
    "ax = fig.gca()\n",
    "ax.plot((soln_resid**2).sum(1))"
   ]
  },
  {
   "cell_type": "markdown",
   "metadata": {},
   "source": [
    "### Method 2: using group LASSO with 0 weights"
   ]
  },
  {
   "cell_type": "code",
   "execution_count": 28,
   "metadata": {
    "collapsed": false
   },
   "outputs": [
    {
     "data": {
      "text/plain": [
       "(310, 100)"
      ]
     },
     "execution_count": 28,
     "metadata": {},
     "output_type": "execute_result"
    }
   ],
   "source": [
    "groups = np.outer(np.arange(X_d.shape[1]), np.ones(nvox))\n",
    "groups.shape"
   ]
  },
  {
   "cell_type": "code",
   "execution_count": 30,
   "metadata": {
    "collapsed": false
   },
   "outputs": [
    {
     "data": {
      "text/plain": [
       "array([  -1.,   -1.,   -1., ...,  309.,  309.,  309.])"
      ]
     },
     "execution_count": 30,
     "metadata": {},
     "output_type": "execute_result"
    }
   ],
   "source": [
    "groups[:nbasis] = design_label = -1 # group id for design columns\n",
    "groups = groups.reshape(-1)"
   ]
  },
  {
   "cell_type": "code",
   "execution_count": 29,
   "metadata": {
    "collapsed": false
   },
   "outputs": [],
   "source": [
    "# All groups have weight 1 except experimental design (weight 0)\n",
    "weights = dict([(g, 1.) for g in np.unique(groups)])\n",
    "weights[design_label] = 0"
   ]
  },
  {
   "cell_type": "code",
   "execution_count": 33,
   "metadata": {
    "collapsed": false
   },
   "outputs": [
    {
     "data": {
      "text/plain": [
       "31000"
      ]
     },
     "execution_count": 33,
     "metadata": {},
     "output_type": "execute_result"
    }
   ],
   "source": [
    "# form loss when parameterized with groups\n",
    "ncolX = X_d.shape[1]\n",
    "X_trans = composition(X_d, reshape(nvox * ncolX, (ncolX, nvox)))\n",
    "loss_group = rr.squared_error(X_trans, Y)\n",
    "loss_group.shape"
   ]
  },
  {
   "cell_type": "code",
   "execution_count": 15,
   "metadata": {
    "collapsed": false
   },
   "outputs": [
    {
     "data": {
      "text/latex": [
       "$$\n",
       "\\begin{aligned}\n",
       "\\text{minimize}_{\\beta} & f(\\beta) + g(\\beta) \\\\\n",
       "f(\\beta) &= \\frac{C}{2}\\left\\|X_{1}\\beta - Y_{1}\\right\\|^2_2 \\\\\n",
       "g(\\beta) &= \\lambda_{2} \\sum_g w_g \\|\\beta[g]\\|_2 \\\\\n",
       "\\end{aligned}\n",
       "$$"
      ],
      "text/plain": [
       "<regreg.problems.simple.simple_problem at 0x107883410>"
      ]
     },
     "execution_count": 15,
     "metadata": {},
     "output_type": "execute_result"
    }
   ],
   "source": [
    "# Weights apply penalty only to non-experimental parameters\n",
    "penalty_group = rr.group_lasso(groups,  weights=weights, lagrange=penalty.lagrange)\n",
    "problem_group = rr.simple_problem(loss_group, penalty_group)\n",
    "problem_group"
   ]
  },
  {
   "cell_type": "code",
   "execution_count": 16,
   "metadata": {
    "collapsed": false
   },
   "outputs": [],
   "source": [
    "soln_group = problem_group.solve(min_its=200, tol=1.e-12)\n",
    "soln_reshape = soln_group.reshape(ncolX, nvox)\n",
    "outlier_coef = soln_reshape[nbasis:]"
   ]
  },
  {
   "cell_type": "markdown",
   "metadata": {},
   "source": [
    "### Solutions are the same for outlier coefs"
   ]
  },
  {
   "cell_type": "code",
   "execution_count": 17,
   "metadata": {
    "collapsed": false
   },
   "outputs": [
    {
     "name": "stdout",
     "output_type": "stream",
     "text": [
      "2.57902611e-15 0.224692853721\n"
     ]
    },
    {
     "data": {
      "image/png": "[encoded data removed]",
      "text/plain": [
       "<matplotlib.figure.Figure at 0x106c32bd0>"
      ]
     },
     "execution_count": 17,
     "metadata": {},
     "output_type": "execute_result"
    }
   ],
   "source": [
    "print np.linalg.norm(soln_resid - outlier_coef) / np.linalg.norm(outlier_coef), np.linalg.norm(outlier_coef)\n",
    "ax.plot((outlier_coef**2).sum(1))\n",
    "fig"
   ]
  },
  {
   "cell_type": "markdown",
   "metadata": {},
   "source": [
    "### Reconstructing design coefs from the residual solution"
   ]
  },
  {
   "cell_type": "code",
   "execution_count": 18,
   "metadata": {
    "collapsed": false
   },
   "outputs": [
    {
     "data": {
      "text/plain": [
       "(9.8194412852878386e-16, 2.5959056093005803)"
      ]
     },
     "execution_count": 18,
     "metadata": {},
     "output_type": "execute_result"
    }
   ],
   "source": [
    "coefs_resid = np.dot(design_pinv, Y - np.dot(X, soln_resid))\n",
    "np.linalg.norm(coefs_resid - soln_reshape[:nbasis]) / np.linalg.norm(soln_reshape), np.linalg.norm(soln_reshape)"
   ]
  },
  {
   "cell_type": "markdown",
   "metadata": {
    "collapsed": true
   },
   "source": [
    "## Why are solutions the same?\n",
    "\n",
    "The optimization problem `problem_group` can be written as\n",
    "$$\n",
    "\\text{minimize}_{A, B} \\frac{1}{2} \\|Y-XB-DA\\|^2_F + \\lambda \\sum_{g \\in G} w_g \\|B[g]\\|_2\n",
    "$$\n",
    "where $X$ is the outlier design and $D$ is the model design.\n",
    "\n",
    "In turn, this could be written as\n",
    "$$\n",
    "\\text{minimize}_{\\tilde{B}} \\frac{1}{2} \\|Y-\\tilde{X}\\tilde{B}\\|^2_F + \\lambda  \\sum_{g \\in \\tilde{G}} w_g \\|\\tilde{B}[g]\\|_2\n",
    "$$\n",
    "where we have used `hstack` to make a larger design and the $w_g$ for the design columns is just zero.\n",
    "This latter form is how it is solved using `problem_group`.\n",
    "\n",
    "Returning to the former version, for a given $B$ we can explicitly solve for $A$\n",
    "$$\n",
    "\\hat{A}(Y,B) = P_D(Y-XB)\n",
    "$$\n",
    "where\n",
    "$$\n",
    "P_D = D D^{\\dagger}.\n",
    "$$\n",
    "\n",
    "Plugging in the optimal value $\\hat{A}(Y,B)$, we still have to find $B$. The objective is now\n",
    "$$\n",
    "\\text{minimize}_{B} \\frac{1}{2} \\|(I-P_D)(Y-XB)\\|^2_F + \\lambda \\sum_{g \\in G} w_g \\|B[g]\\|_2\n",
    "$$\n",
    "or,\n",
    "$$\n",
    "\\text{minimize}_{B} \\frac{1}{2} \\|R_DY-(R_DX)B\\|^2_F + \\lambda  \\sum_{g \\in G} w_g \\|B[g]\\|_2\n",
    "$$\n",
    "where $R_D = I - P_D$.\n",
    "\n",
    "If we assign all groups equal weights of 1, which we specified in the dict `weights`, then\n",
    "$$\n",
    "\\sum_{g \\in G} w_g \\|B[g]\\|_2 = \\|B\\|_{1,2}\n",
    "$$\n",
    "and our problem is\n",
    "$$\n",
    "\\text{minimize}_{B} \\frac{1}{2} \\|R_DY-(R_DX)B\\|^2_F + \\lambda \\|B\\|_{1,2}.\n",
    "$$\n",
    "\n",
    "This is the problem solved by `problem_resid`. Having solved for $\\hat{B}(R_DY)$ we plug this into the\n",
    "formula for $\\hat{A}$ yielding `coefs_resid` above."
   ]
  }
 ],
 "metadata": {
  "kernelspec": {
   "display_name": "Python 2",
   "language": "python",
   "name": "python2"
  },
  "language_info": {
   "codemirror_mode": {
    "name": "ipython",
    "version": 2
   },
   "file_extension": ".py",
   "mimetype": "text/x-python",
   "name": "python",
   "nbconvert_exporter": "python",
   "pygments_lexer": "ipython2",
   "version": "2.7.5"
  },
  "latex_envs": {
   "bibliofile": "biblio.bib",
   "cite_by": "apalike",
   "current_citInitial": 1,
   "eqLabelWithNumbers": true,
   "eqNumInitial": 0
  }
 },
 "nbformat": 4,
 "nbformat_minor": 0
}
